{
 "cells": [
  {
   "cell_type": "markdown",
   "id": "43b9ce1e",
   "metadata": {},
   "source": [
    "### 1). Based on Moving Average Calculations:"
   ]
  },
  {
   "cell_type": "markdown",
   "id": "5cbc044b",
   "metadata": {},
   "source": [
    "##### * Find the moving average for the list of integers [4, 8, 12, 16, 20, 24, 28, 32, 36, 40] with a window size of 3."
   ]
  },
  {
   "cell_type": "code",
   "execution_count": 1,
   "id": "bb196685",
   "metadata": {},
   "outputs": [],
   "source": [
    "import numpy as np"
   ]
  },
  {
   "cell_type": "code",
   "execution_count": 2,
   "id": "218bff63",
   "metadata": {},
   "outputs": [],
   "source": [
    "# List of integers\n",
    "data = np.array([4, 8, 12, 16, 20, 24, 28, 32, 36, 40])"
   ]
  },
  {
   "cell_type": "code",
   "execution_count": 3,
   "id": "c1ed590f",
   "metadata": {},
   "outputs": [],
   "source": [
    "# Window size\n",
    "window_size = 3"
   ]
  },
  {
   "cell_type": "code",
   "execution_count": 4,
   "id": "4d9c0be3",
   "metadata": {},
   "outputs": [
    {
     "name": "stdout",
     "output_type": "stream",
     "text": [
      "Moving Average (Window Size 3): [ 8. 12. 16. 20. 24. 28. 32. 36.]\n"
     ]
    }
   ],
   "source": [
    "# Calculate the moving average\n",
    "moving_avg = np.convolve(data, np.ones(window_size)/window_size, mode='valid')\n",
    "print(\"Moving Average (Window Size 3):\", moving_avg)"
   ]
  },
  {
   "cell_type": "markdown",
   "id": "f14b348a",
   "metadata": {},
   "source": [
    "##### * Calculate the moving average using a window size of 4 for the list [5, 10, 15, 20, 25, 30, 35, 40, 45, 50]"
   ]
  },
  {
   "cell_type": "code",
   "execution_count": 5,
   "id": "f201f88d",
   "metadata": {},
   "outputs": [],
   "source": [
    "# Using a Pandas DataFrame\n",
    "import pandas as pd"
   ]
  },
  {
   "cell_type": "code",
   "execution_count": 6,
   "id": "46212b35",
   "metadata": {},
   "outputs": [
    {
     "data": {
      "text/html": [
       "<div>\n",
       "<style scoped>\n",
       "    .dataframe tbody tr th:only-of-type {\n",
       "        vertical-align: middle;\n",
       "    }\n",
       "\n",
       "    .dataframe tbody tr th {\n",
       "        vertical-align: top;\n",
       "    }\n",
       "\n",
       "    .dataframe thead th {\n",
       "        text-align: right;\n",
       "    }\n",
       "</style>\n",
       "<table border=\"1\" class=\"dataframe\">\n",
       "  <thead>\n",
       "    <tr style=\"text-align: right;\">\n",
       "      <th></th>\n",
       "      <th>Numbers</th>\n",
       "    </tr>\n",
       "  </thead>\n",
       "  <tbody>\n",
       "    <tr>\n",
       "      <th>0</th>\n",
       "      <td>5</td>\n",
       "    </tr>\n",
       "    <tr>\n",
       "      <th>1</th>\n",
       "      <td>10</td>\n",
       "    </tr>\n",
       "  </tbody>\n",
       "</table>\n",
       "</div>"
      ],
      "text/plain": [
       "   Numbers\n",
       "0        5\n",
       "1       10"
      ]
     },
     "execution_count": 6,
     "metadata": {},
     "output_type": "execute_result"
    }
   ],
   "source": [
    "data = {'Numbers': [5, 10, 15, 20, 25, 30, 35, 40, 45, 50]}\n",
    "df = pd.DataFrame(data)\n",
    "df.head(2)"
   ]
  },
  {
   "cell_type": "code",
   "execution_count": 7,
   "id": "3ec3074f",
   "metadata": {},
   "outputs": [
    {
     "data": {
      "text/html": [
       "<div>\n",
       "<style scoped>\n",
       "    .dataframe tbody tr th:only-of-type {\n",
       "        vertical-align: middle;\n",
       "    }\n",
       "\n",
       "    .dataframe tbody tr th {\n",
       "        vertical-align: top;\n",
       "    }\n",
       "\n",
       "    .dataframe thead th {\n",
       "        text-align: right;\n",
       "    }\n",
       "</style>\n",
       "<table border=\"1\" class=\"dataframe\">\n",
       "  <thead>\n",
       "    <tr style=\"text-align: right;\">\n",
       "      <th></th>\n",
       "      <th>Numbers</th>\n",
       "      <th>Moving_Average</th>\n",
       "    </tr>\n",
       "  </thead>\n",
       "  <tbody>\n",
       "    <tr>\n",
       "      <th>0</th>\n",
       "      <td>5</td>\n",
       "      <td>NaN</td>\n",
       "    </tr>\n",
       "    <tr>\n",
       "      <th>1</th>\n",
       "      <td>10</td>\n",
       "      <td>NaN</td>\n",
       "    </tr>\n",
       "    <tr>\n",
       "      <th>2</th>\n",
       "      <td>15</td>\n",
       "      <td>NaN</td>\n",
       "    </tr>\n",
       "    <tr>\n",
       "      <th>3</th>\n",
       "      <td>20</td>\n",
       "      <td>12.5</td>\n",
       "    </tr>\n",
       "    <tr>\n",
       "      <th>4</th>\n",
       "      <td>25</td>\n",
       "      <td>17.5</td>\n",
       "    </tr>\n",
       "    <tr>\n",
       "      <th>5</th>\n",
       "      <td>30</td>\n",
       "      <td>22.5</td>\n",
       "    </tr>\n",
       "    <tr>\n",
       "      <th>6</th>\n",
       "      <td>35</td>\n",
       "      <td>27.5</td>\n",
       "    </tr>\n",
       "    <tr>\n",
       "      <th>7</th>\n",
       "      <td>40</td>\n",
       "      <td>32.5</td>\n",
       "    </tr>\n",
       "    <tr>\n",
       "      <th>8</th>\n",
       "      <td>45</td>\n",
       "      <td>37.5</td>\n",
       "    </tr>\n",
       "    <tr>\n",
       "      <th>9</th>\n",
       "      <td>50</td>\n",
       "      <td>42.5</td>\n",
       "    </tr>\n",
       "  </tbody>\n",
       "</table>\n",
       "</div>"
      ],
      "text/plain": [
       "   Numbers  Moving_Average\n",
       "0        5             NaN\n",
       "1       10             NaN\n",
       "2       15             NaN\n",
       "3       20            12.5\n",
       "4       25            17.5\n",
       "5       30            22.5\n",
       "6       35            27.5\n",
       "7       40            32.5\n",
       "8       45            37.5\n",
       "9       50            42.5"
      ]
     },
     "execution_count": 7,
     "metadata": {},
     "output_type": "execute_result"
    }
   ],
   "source": [
    "# Calculate the moving average with a window size of 4\n",
    "df[\"Moving_Average\"] = df[\"Numbers\"].rolling(window=4).mean()\n",
    "df"
   ]
  },
  {
   "cell_type": "markdown",
   "id": "686695f0",
   "metadata": {},
   "source": [
    "##### * For the list [11, 22, 33, 44, 55, 66, 77, 88, 99, 110], find the moving average with a window size of 2."
   ]
  },
  {
   "cell_type": "code",
   "execution_count": 8,
   "id": "b3099663",
   "metadata": {},
   "outputs": [],
   "source": [
    "# List of integers\n",
    "data = np.array([11, 22, 33, 44, 55, 66, 77, 88, 99, 110])"
   ]
  },
  {
   "cell_type": "code",
   "execution_count": 9,
   "id": "635a1ce5",
   "metadata": {},
   "outputs": [],
   "source": [
    "# Window size\n",
    "window_size = 2"
   ]
  },
  {
   "cell_type": "code",
   "execution_count": 10,
   "id": "ca436016",
   "metadata": {},
   "outputs": [
    {
     "name": "stdout",
     "output_type": "stream",
     "text": [
      "Moving Average (Window Size 2): [ 16.5  27.5  38.5  49.5  60.5  71.5  82.5  93.5 104.5]\n"
     ]
    }
   ],
   "source": [
    "# Calculate the moving average\n",
    "moving_avg = np.convolve(data, np.ones(window_size)/window_size, mode='valid')\n",
    "print(\"Moving Average (Window Size 2):\", moving_avg)"
   ]
  },
  {
   "cell_type": "markdown",
   "id": "8a092df7",
   "metadata": {},
   "source": [
    "#### * Determine the moving average with a window size of 3 for the list [9, 18, 27, 36, 45, 54, 63, 72, 81, 90]"
   ]
  },
  {
   "cell_type": "code",
   "execution_count": 11,
   "id": "c6a900f2",
   "metadata": {},
   "outputs": [
    {
     "data": {
      "text/html": [
       "<div>\n",
       "<style scoped>\n",
       "    .dataframe tbody tr th:only-of-type {\n",
       "        vertical-align: middle;\n",
       "    }\n",
       "\n",
       "    .dataframe tbody tr th {\n",
       "        vertical-align: top;\n",
       "    }\n",
       "\n",
       "    .dataframe thead th {\n",
       "        text-align: right;\n",
       "    }\n",
       "</style>\n",
       "<table border=\"1\" class=\"dataframe\">\n",
       "  <thead>\n",
       "    <tr style=\"text-align: right;\">\n",
       "      <th></th>\n",
       "      <th>Num</th>\n",
       "    </tr>\n",
       "  </thead>\n",
       "  <tbody>\n",
       "    <tr>\n",
       "      <th>0</th>\n",
       "      <td>9</td>\n",
       "    </tr>\n",
       "    <tr>\n",
       "      <th>1</th>\n",
       "      <td>18</td>\n",
       "    </tr>\n",
       "  </tbody>\n",
       "</table>\n",
       "</div>"
      ],
      "text/plain": [
       "   Num\n",
       "0    9\n",
       "1   18"
      ]
     },
     "execution_count": 11,
     "metadata": {},
     "output_type": "execute_result"
    }
   ],
   "source": [
    "ds = {'Num': [9, 18, 27, 36, 45, 54, 63, 72, 81, 90]}\n",
    "df = pd.DataFrame(ds)\n",
    "df.head(2)"
   ]
  },
  {
   "cell_type": "code",
   "execution_count": 12,
   "id": "603dbdda",
   "metadata": {},
   "outputs": [],
   "source": [
    "df['Moving_Average'] = df['Num'].rolling(window=3).mean()"
   ]
  },
  {
   "cell_type": "code",
   "execution_count": 13,
   "id": "b3a1f7f8",
   "metadata": {},
   "outputs": [
    {
     "data": {
      "text/html": [
       "<div>\n",
       "<style scoped>\n",
       "    .dataframe tbody tr th:only-of-type {\n",
       "        vertical-align: middle;\n",
       "    }\n",
       "\n",
       "    .dataframe tbody tr th {\n",
       "        vertical-align: top;\n",
       "    }\n",
       "\n",
       "    .dataframe thead th {\n",
       "        text-align: right;\n",
       "    }\n",
       "</style>\n",
       "<table border=\"1\" class=\"dataframe\">\n",
       "  <thead>\n",
       "    <tr style=\"text-align: right;\">\n",
       "      <th></th>\n",
       "      <th>Num</th>\n",
       "      <th>Moving_Average</th>\n",
       "    </tr>\n",
       "  </thead>\n",
       "  <tbody>\n",
       "    <tr>\n",
       "      <th>0</th>\n",
       "      <td>9</td>\n",
       "      <td>NaN</td>\n",
       "    </tr>\n",
       "    <tr>\n",
       "      <th>1</th>\n",
       "      <td>18</td>\n",
       "      <td>NaN</td>\n",
       "    </tr>\n",
       "    <tr>\n",
       "      <th>2</th>\n",
       "      <td>27</td>\n",
       "      <td>18.0</td>\n",
       "    </tr>\n",
       "    <tr>\n",
       "      <th>3</th>\n",
       "      <td>36</td>\n",
       "      <td>27.0</td>\n",
       "    </tr>\n",
       "    <tr>\n",
       "      <th>4</th>\n",
       "      <td>45</td>\n",
       "      <td>36.0</td>\n",
       "    </tr>\n",
       "    <tr>\n",
       "      <th>5</th>\n",
       "      <td>54</td>\n",
       "      <td>45.0</td>\n",
       "    </tr>\n",
       "    <tr>\n",
       "      <th>6</th>\n",
       "      <td>63</td>\n",
       "      <td>54.0</td>\n",
       "    </tr>\n",
       "    <tr>\n",
       "      <th>7</th>\n",
       "      <td>72</td>\n",
       "      <td>63.0</td>\n",
       "    </tr>\n",
       "    <tr>\n",
       "      <th>8</th>\n",
       "      <td>81</td>\n",
       "      <td>72.0</td>\n",
       "    </tr>\n",
       "    <tr>\n",
       "      <th>9</th>\n",
       "      <td>90</td>\n",
       "      <td>81.0</td>\n",
       "    </tr>\n",
       "  </tbody>\n",
       "</table>\n",
       "</div>"
      ],
      "text/plain": [
       "   Num  Moving_Average\n",
       "0    9             NaN\n",
       "1   18             NaN\n",
       "2   27            18.0\n",
       "3   36            27.0\n",
       "4   45            36.0\n",
       "5   54            45.0\n",
       "6   63            54.0\n",
       "7   72            63.0\n",
       "8   81            72.0\n",
       "9   90            81.0"
      ]
     },
     "execution_count": 13,
     "metadata": {},
     "output_type": "execute_result"
    }
   ],
   "source": [
    "df"
   ]
  },
  {
   "cell_type": "markdown",
   "id": "fc39ae75",
   "metadata": {},
   "source": [
    "### 2). Perform an Augmented Dickey-Fuller (ADF) test on a dataset containing attrition data to determine whether the attrition rate is stationary"
   ]
  },
  {
   "cell_type": "code",
   "execution_count": 14,
   "id": "9bed8ad9",
   "metadata": {},
   "outputs": [],
   "source": [
    "import pandas as pd\n",
    "from statsmodels.tsa.stattools import adfuller"
   ]
  },
  {
   "cell_type": "code",
   "execution_count": 15,
   "id": "ef325a75",
   "metadata": {},
   "outputs": [
    {
     "data": {
      "text/html": [
       "<div>\n",
       "<style scoped>\n",
       "    .dataframe tbody tr th:only-of-type {\n",
       "        vertical-align: middle;\n",
       "    }\n",
       "\n",
       "    .dataframe tbody tr th {\n",
       "        vertical-align: top;\n",
       "    }\n",
       "\n",
       "    .dataframe thead th {\n",
       "        text-align: right;\n",
       "    }\n",
       "</style>\n",
       "<table border=\"1\" class=\"dataframe\">\n",
       "  <thead>\n",
       "    <tr style=\"text-align: right;\">\n",
       "      <th></th>\n",
       "      <th>Year</th>\n",
       "      <th>Attrition Rate</th>\n",
       "    </tr>\n",
       "  </thead>\n",
       "  <tbody>\n",
       "    <tr>\n",
       "      <th>0</th>\n",
       "      <td>2011</td>\n",
       "      <td>10</td>\n",
       "    </tr>\n",
       "    <tr>\n",
       "      <th>1</th>\n",
       "      <td>2012</td>\n",
       "      <td>11</td>\n",
       "    </tr>\n",
       "    <tr>\n",
       "      <th>2</th>\n",
       "      <td>2013</td>\n",
       "      <td>12</td>\n",
       "    </tr>\n",
       "    <tr>\n",
       "      <th>3</th>\n",
       "      <td>2014</td>\n",
       "      <td>13</td>\n",
       "    </tr>\n",
       "    <tr>\n",
       "      <th>4</th>\n",
       "      <td>2015</td>\n",
       "      <td>15</td>\n",
       "    </tr>\n",
       "  </tbody>\n",
       "</table>\n",
       "</div>"
      ],
      "text/plain": [
       "   Year  Attrition Rate\n",
       "0  2011              10\n",
       "1  2012              11\n",
       "2  2013              12\n",
       "3  2014              13\n",
       "4  2015              15"
      ]
     },
     "execution_count": 15,
     "metadata": {},
     "output_type": "execute_result"
    }
   ],
   "source": [
    "att = pd.read_csv('attrition_data.csv')\n",
    "att.head()"
   ]
  },
  {
   "cell_type": "code",
   "execution_count": 16,
   "id": "4e852dbc",
   "metadata": {},
   "outputs": [
    {
     "data": {
      "text/plain": [
       "Index(['Year', 'Attrition Rate'], dtype='object')"
      ]
     },
     "execution_count": 16,
     "metadata": {},
     "output_type": "execute_result"
    }
   ],
   "source": [
    "att.columns"
   ]
  },
  {
   "cell_type": "code",
   "execution_count": 17,
   "id": "630700f7",
   "metadata": {},
   "outputs": [
    {
     "data": {
      "text/plain": [
       "(0.9874563423317477,\n",
       " 0.9941318193379074,\n",
       " 2,\n",
       " 10,\n",
       " {'1%': -4.331573, '5%': -3.23295, '10%': -2.7487},\n",
       " -512.53903655347)"
      ]
     },
     "execution_count": 17,
     "metadata": {},
     "output_type": "execute_result"
    }
   ],
   "source": [
    "adf = adfuller(att['Attrition Rate'])\n",
    "adf"
   ]
  },
  {
   "cell_type": "code",
   "execution_count": 18,
   "id": "c7890411",
   "metadata": {},
   "outputs": [
    {
     "name": "stdout",
     "output_type": "stream",
     "text": [
      "ADF Statistic: 0.9874563423317477\n",
      "p-value: 0.9941318193379074\n",
      "Critical Values:\n",
      "   1%: -4.331573\n",
      "   5%: -3.23295\n",
      "   10%: -2.7487\n"
     ]
    }
   ],
   "source": [
    "print('ADF Statistic:', adf[0])\n",
    "print('p-value:', adf[1])\n",
    "print('Critical Values:')\n",
    "for key, value in adf[4].items():\n",
    "    print(f'   {key}: {value}')"
   ]
  },
  {
   "cell_type": "markdown",
   "id": "18011ba7",
   "metadata": {},
   "source": [
    "#### Conclusion: Since the ADF Statistic is > than the critical value at 5% and \n",
    "* the p-value is greater than 0.05,\n",
    "* we Fail to Reject the Null Hypothesis\n",
    "* and conclude that the attrition rate is non-stationary."
   ]
  },
  {
   "cell_type": "markdown",
   "id": "c2017b7b",
   "metadata": {},
   "source": [
    "### 3). Implement an AutoRegressive(AR) model of order 1 (AR(1)) using Python and analyze its performance"
   ]
  },
  {
   "cell_type": "markdown",
   "id": "488c0b60",
   "metadata": {},
   "source": [
    "* Generate synthetic data for an AR(1) process with known parameters."
   ]
  },
  {
   "cell_type": "code",
   "execution_count": 19,
   "id": "8bd9c1bd",
   "metadata": {},
   "outputs": [],
   "source": [
    "import numpy as np\n",
    "import matplotlib.pyplot as plt\n",
    "import pandas as pd\n",
    "from statsmodels.tsa.ar_model import AutoReg"
   ]
  },
  {
   "cell_type": "code",
   "execution_count": 20,
   "id": "a7d239e4",
   "metadata": {},
   "outputs": [],
   "source": [
    "def generate_ar1_data(c, phi, num_steps, sigma=1, seed=42):\n",
    "    np.random.seed(seed)\n",
    "    ar1_data = [c]\n",
    "    for t in range(1, num_steps):\n",
    "        noise = np.random.normal(0, sigma)\n",
    "        ar1_data.append(c + phi * ar1_data[t-1] + noise)\n",
    "    return pd.Series(ar1_data)"
   ]
  },
  {
   "cell_type": "code",
   "execution_count": 21,
   "id": "359f5052",
   "metadata": {},
   "outputs": [],
   "source": [
    "c = 2\n",
    "phi1 = 0.5\n",
    "num_steps = 100"
   ]
  },
  {
   "cell_type": "code",
   "execution_count": 22,
   "id": "cf7a27c7",
   "metadata": {},
   "outputs": [
    {
     "data": {
      "text/plain": [
       "0    2.000000\n",
       "1    3.496714\n",
       "2    3.610093\n",
       "3    4.452735\n",
       "4    5.749397\n",
       "dtype: float64"
      ]
     },
     "execution_count": 22,
     "metadata": {},
     "output_type": "execute_result"
    }
   ],
   "source": [
    "ar1_data = generate_ar1_data(c, phi1, num_steps)\n",
    "ar1_data.head()"
   ]
  },
  {
   "cell_type": "markdown",
   "id": "b9ae4d69",
   "metadata": {},
   "source": [
    "* Plot the generated time series to visualize the data"
   ]
  },
  {
   "cell_type": "code",
   "execution_count": 23,
   "id": "f1d79b49",
   "metadata": {},
   "outputs": [
    {
     "data": {
      "image/png": "[encoded data removed]",
      "text/plain": [
       "<Figure size 1000x600 with 1 Axes>"
      ]
     },
     "metadata": {},
     "output_type": "display_data"
    }
   ],
   "source": [
    "plt.figure(figsize=(10, 6))\n",
    "plt.plot(ar1_data, label=f'AR(1) Time Series (c={c}, phi={phi1})')\n",
    "plt.title('Generated AR(1) Time Series')\n",
    "plt.xlabel('Time Steps')\n",
    "plt.ylabel('Value')\n",
    "plt.legend()\n",
    "plt.show()"
   ]
  },
  {
   "cell_type": "markdown",
   "id": "4ffafd75",
   "metadata": {},
   "source": [
    "* Implement an AR(1) model using either NumPy or statsmodels"
   ]
  },
  {
   "cell_type": "code",
   "execution_count": 24,
   "id": "81c3014a",
   "metadata": {},
   "outputs": [],
   "source": [
    "model = AutoReg(ar1_data, lags=1)\n",
    "model_fit = model.fit()"
   ]
  },
  {
   "cell_type": "markdown",
   "id": "74a974a8",
   "metadata": {},
   "source": [
    "* Print the summary of the model results to analyse the estimated coefficients and model performance"
   ]
  },
  {
   "cell_type": "code",
   "execution_count": 25,
   "id": "5277afdc",
   "metadata": {},
   "outputs": [
    {
     "name": "stdout",
     "output_type": "stream",
     "text": [
      "                            AutoReg Model Results                             \n",
      "==============================================================================\n",
      "Dep. Variable:                      y   No. Observations:                  100\n",
      "Model:                     AutoReg(1)   Log Likelihood                -130.764\n",
      "Method:               Conditional MLE   S.D. of innovations              0.907\n",
      "Date:                Mon, 09 Sep 2024   AIC                            267.528\n",
      "Time:                        10:16:45   BIC                            275.313\n",
      "Sample:                             1   HQIC                           270.678\n",
      "                                  100                                         \n",
      "==============================================================================\n",
      "                 coef    std err          z      P>|z|      [0.025      0.975]\n",
      "------------------------------------------------------------------------------\n",
      "const          2.0873      0.343      6.081      0.000       1.415       2.760\n",
      "y.L1           0.4495      0.088      5.100      0.000       0.277       0.622\n",
      "                                    Roots                                    \n",
      "=============================================================================\n",
      "                  Real          Imaginary           Modulus         Frequency\n",
      "-----------------------------------------------------------------------------\n",
      "AR.1            2.2249           +0.0000j            2.2249            0.0000\n",
      "-----------------------------------------------------------------------------\n"
     ]
    }
   ],
   "source": [
    "print(model_fit.summary())"
   ]
  },
  {
   "cell_type": "raw",
   "id": "c938a0e1",
   "metadata": {},
   "source": [
    "*const: The estimated intercept value, close to the true c=2.\n",
    "*y.L1: The lag-1 coefficient (AR term) 𝜙 ≈ 0.4495, which is close to the true value of 0.5"
   ]
  },
  {
   "cell_type": "markdown",
   "id": "4778cf7c",
   "metadata": {},
   "source": [
    "* Check the best lag using AIC and BIC"
   ]
  },
  {
   "cell_type": "code",
   "execution_count": 26,
   "id": "cf15d4f3",
   "metadata": {},
   "outputs": [],
   "source": [
    "aic_values = []\n",
    "bic_values = []\n",
    "max_lag = 10  # Test up to 10 lags"
   ]
  },
  {
   "cell_type": "code",
   "execution_count": 27,
   "id": "9e9ea783",
   "metadata": {},
   "outputs": [],
   "source": [
    "for lag in range(1, max_lag+1):\n",
    "    model = AutoReg(ar1_data, lags=lag)\n",
    "    model_fit = model.fit()\n",
    "    aic_values.append(model_fit.aic)\n",
    "    bic_values.append(model_fit.bic)"
   ]
  },
  {
   "cell_type": "code",
   "execution_count": 28,
   "id": "d64a8471",
   "metadata": {},
   "outputs": [
    {
     "data": {
      "image/png": "[encoded data removed]",
      "text/plain": [
       "<Figure size 1000x600 with 1 Axes>"
      ]
     },
     "metadata": {},
     "output_type": "display_data"
    }
   ],
   "source": [
    "# Plot the AIC and BIC values to visualize the best lag\n",
    "plt.figure(figsize=(10, 6))\n",
    "plt.plot(range(1, max_lag+1), aic_values, label='AIC', marker='o')\n",
    "plt.plot(range(1, max_lag+1), bic_values, label='BIC', marker='o')\n",
    "plt.title('AIC and BIC for Different Lags')\n",
    "plt.xlabel('Lag')\n",
    "plt.ylabel('Information Criterion')\n",
    "plt.legend()\n",
    "plt.show()"
   ]
  },
  {
   "cell_type": "code",
   "execution_count": 29,
   "id": "5ea70e91",
   "metadata": {},
   "outputs": [],
   "source": [
    "#Find the optimal lag with the minimum AIC and BIC\n",
    "best_lag_aic = np.argmin(aic_values) + 1  # Adding 1 because index starts from 0\n",
    "best_lag_bic = np.argmin(bic_values) + 1"
   ]
  },
  {
   "cell_type": "code",
   "execution_count": 30,
   "id": "1b15a62c",
   "metadata": {},
   "outputs": [
    {
     "name": "stdout",
     "output_type": "stream",
     "text": [
      "Best Lag according to AIC: 10\n",
      "Best Lag according to BIC: 1\n"
     ]
    }
   ],
   "source": [
    "print(f'Best Lag according to AIC: {best_lag_aic}')\n",
    "print(f'Best Lag according to BIC: {best_lag_bic}')"
   ]
  },
  {
   "cell_type": "code",
   "execution_count": 31,
   "id": "b6e9cbc0",
   "metadata": {},
   "outputs": [
    {
     "name": "stdout",
     "output_type": "stream",
     "text": [
      "                            AutoReg Model Results                             \n",
      "==============================================================================\n",
      "Dep. Variable:                      y   No. Observations:                  100\n",
      "Model:                    AutoReg(10)   Log Likelihood                -114.914\n",
      "Method:               Conditional MLE   S.D. of innovations              0.868\n",
      "Date:                Mon, 09 Sep 2024   AIC                            253.827\n",
      "Time:                        10:16:50   BIC                            283.825\n",
      "Sample:                            10   HQIC                           265.924\n",
      "                                  100                                         \n",
      "==============================================================================\n",
      "                 coef    std err          z      P>|z|      [0.025      0.975]\n",
      "------------------------------------------------------------------------------\n",
      "const          2.5521      0.724      3.527      0.000       1.134       3.971\n",
      "y.L1           0.4592      0.105      4.384      0.000       0.254       0.664\n",
      "y.L2          -0.0319      0.114     -0.279      0.781      -0.256       0.193\n",
      "y.L3          -0.0325      0.112     -0.289      0.772      -0.253       0.188\n",
      "y.L4          -0.0843      0.113     -0.747      0.455      -0.305       0.137\n",
      "y.L5           0.2611      0.112      2.322      0.020       0.041       0.481\n",
      "y.L6          -0.1334      0.111     -1.199      0.230      -0.351       0.085\n",
      "y.L7           0.0138      0.112      0.123      0.902      -0.206       0.233\n",
      "y.L8          -0.1202      0.113     -1.067      0.286      -0.341       0.101\n",
      "y.L9           0.0762      0.113      0.675      0.500      -0.145       0.298\n",
      "y.L10         -0.0973      0.101     -0.966      0.334      -0.295       0.100\n",
      "                                    Roots                                     \n",
      "==============================================================================\n",
      "                   Real          Imaginary           Modulus         Frequency\n",
      "------------------------------------------------------------------------------\n",
      "AR.1            -1.0628           -0.5166j            1.1817           -0.4280\n",
      "AR.2            -1.0628           +0.5166j            1.1817            0.4280\n",
      "AR.3            -0.7201           -1.0991j            1.3140           -0.3423\n",
      "AR.4            -0.7201           +1.0991j            1.3140            0.3423\n",
      "AR.5             1.1224           -0.3480j            1.1751           -0.0478\n",
      "AR.6             1.1224           +0.3480j            1.1751            0.0478\n",
      "AR.7             0.7304           -1.1198j            1.3369           -0.1580\n",
      "AR.8             0.7304           +1.1198j            1.3369            0.1580\n",
      "AR.9             0.3220           -1.2744j            1.3145           -0.2106\n",
      "AR.10            0.3220           +1.2744j            1.3145            0.2106\n",
      "------------------------------------------------------------------------------\n"
     ]
    }
   ],
   "source": [
    "#Fit the AR model with the best lag according to AIC\n",
    "best_model = AutoReg(ar1_data, lags=best_lag_aic).fit()\n",
    "print(best_model.summary())"
   ]
  },
  {
   "cell_type": "code",
   "execution_count": 32,
   "id": "1b13de41",
   "metadata": {},
   "outputs": [
    {
     "name": "stdout",
     "output_type": "stream",
     "text": [
      "                            AutoReg Model Results                             \n",
      "==============================================================================\n",
      "Dep. Variable:                      y   No. Observations:                  100\n",
      "Model:                     AutoReg(1)   Log Likelihood                -130.764\n",
      "Method:               Conditional MLE   S.D. of innovations              0.907\n",
      "Date:                Mon, 09 Sep 2024   AIC                            267.528\n",
      "Time:                        10:16:50   BIC                            275.313\n",
      "Sample:                             1   HQIC                           270.678\n",
      "                                  100                                         \n",
      "==============================================================================\n",
      "                 coef    std err          z      P>|z|      [0.025      0.975]\n",
      "------------------------------------------------------------------------------\n",
      "const          2.0873      0.343      6.081      0.000       1.415       2.760\n",
      "y.L1           0.4495      0.088      5.100      0.000       0.277       0.622\n",
      "                                    Roots                                    \n",
      "=============================================================================\n",
      "                  Real          Imaginary           Modulus         Frequency\n",
      "-----------------------------------------------------------------------------\n",
      "AR.1            2.2249           +0.0000j            2.2249            0.0000\n",
      "-----------------------------------------------------------------------------\n"
     ]
    }
   ],
   "source": [
    "#Fit the AR model with the best lag according to BIC\n",
    "best_model = AutoReg(ar1_data, lags=best_lag_bic).fit()\n",
    "print(best_model.summary())"
   ]
  }
 ],
 "metadata": {
  "kernelspec": {
   "display_name": "Python 3 (ipykernel)",
   "language": "python",
   "name": "python3"
  },
  "language_info": {
   "codemirror_mode": {
    "name": "ipython",
    "version": 3
   },
   "file_extension": ".py",
   "mimetype": "text/x-python",
   "name": "python",
   "nbconvert_exporter": "python",
   "pygments_lexer": "ipython3",
   "version": "3.11.5"
  }
 },
 "nbformat": 4,
 "nbformat_minor": 5
}
